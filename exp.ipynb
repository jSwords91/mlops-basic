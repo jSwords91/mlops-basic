{
 "cells": [
  {
   "cell_type": "code",
   "execution_count": 5,
   "metadata": {},
   "outputs": [],
   "source": [
    "from src import *"
   ]
  },
  {
   "cell_type": "code",
   "execution_count": null,
   "metadata": {},
   "outputs": [],
   "source": [
    "   config_file = \"config/config.yaml\"\n",
    "    config = read_config(config_file)\n",
    "\n",
    "    data = DataIngestion(**config[\"data_ingestion\"]).run()\n",
    "\n",
    "    date_colsumns = config[\"data_processing\"][\"date_columns\"]\n",
    "    int_columns = config[\"data_processing\"][\"int_columns\"]\n",
    "    column_name_mapping = config[\"data_processing\"][\"column_name_mapping\"]\n",
    "\n",
    "\n",
    "    clean_config = DataCleanConfig(date_columns, int_columns, column_name_mapping)\n",
    "    cleaned_data = DataClean(data, clean_config).run()\n",
    "\n",
    "    featurized_data = Featurizer(cleaned_data).run()\n",
    "    print(featurized_data)\n",
    "    timeseries_split_config = TimeSeriesSplitConfig(**config[\"train_test_split\"])\n",
    "    train_data, dev_data, test_data = TimeSeriesSplit(featurized_data, timeseries_split_config).split()\n",
    "\n",
    "    print(train_data)"
   ]
  }
 ],
 "metadata": {
  "kernelspec": {
   "display_name": "Python 3",
   "language": "python",
   "name": "python3"
  },
  "language_info": {
   "codemirror_mode": {
    "name": "ipython",
    "version": 3
   },
   "file_extension": ".py",
   "mimetype": "text/x-python",
   "name": "python",
   "nbconvert_exporter": "python",
   "pygments_lexer": "ipython3",
   "version": "3.9.10"
  },
  "orig_nbformat": 4,
  "vscode": {
   "interpreter": {
    "hash": "167becaa9567c733a9e692d77ae783d18b4ae6852acfe3033d5025e7b5f02e8b"
   }
  }
 },
 "nbformat": 4,
 "nbformat_minor": 2
}
